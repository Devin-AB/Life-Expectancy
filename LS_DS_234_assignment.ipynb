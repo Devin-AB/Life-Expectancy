{
 "cells": [
  {
   "cell_type": "code",
   "execution_count": 1,
   "metadata": {},
   "outputs": [],
   "source": [
    "DATA_PATH = '../data/'"
   ]
  },
  {
   "cell_type": "code",
   "execution_count": 103,
   "metadata": {},
   "outputs": [],
   "source": [
    "import pandas as pd\n",
    "from sklearn.pipeline import make_pipeline\n",
    "from sklearn.impute import SimpleImputer\n",
    "from sklearn.ensemble import RandomForestRegressor, GradientBoostingRegressor\n",
    "from sklearn.linear_model import LogisticRegression, LinearRegression, Ridge\n",
    "from sklearn.preprocessing import StandardScaler\n",
    "from sklearn.metrics import classification_report, plot_confusion_matrix, plot_roc_curve, mean_absolute_error\n",
    "from sklearn.metrics import accuracy_score, precision_score, recall_score, roc_auc_score, r2_score\n",
    "from sklearn.model_selection import train_test_split\n",
    "from category_encoders import OneHotEncoder, OrdinalEncoder, TargetEncoder\n",
    "import matplotlib.pyplot as plt\n",
    "from xgboost import XGBRegressor"
   ]
  },
  {
   "cell_type": "code",
   "execution_count": 127,
   "metadata": {},
   "outputs": [],
   "source": [
    "def wrangle(filepath):\n",
    "    df = pd.read_csv(filepath, parse_dates= ['Year'], index_col= ['Year', 'Country'])\n",
    "    # settings to display all columns\n",
    "    pd.set_option(\"display.max_columns\", None)\n",
    "    # Dropping any Nan values\n",
    "    df = df.dropna()\n",
    "    # cleaning column names\n",
    "    df.columns= ['Status', 'Life_Expectancy', 'Adult_Mortality',\n",
    "       'infant_deaths', 'Alcohol', 'percentage_expenditure', 'Hepatitis_B',\n",
    "       'Measles', 'BMI', 'under_five_deaths', 'Polio', 'Total_Expenditure',\n",
    "       'Diphtheria', 'HIV/AIDS', 'GDP','Population', 'thinness_1_19_years', 'thinness_5_9_years',\n",
    "       'Income_composition_of_resources', 'Schooling']\n",
    "    return df\n",
    "\n",
    "    \n",
    "df = wrangle(DATA_PATH+ 'Unit 2 project/led.csv')    "
   ]
  },
  {
   "cell_type": "code",
   "execution_count": 129,
   "metadata": {},
   "outputs": [
    {
     "name": "stdout",
     "output_type": "stream",
     "text": [
      "(1649, 20)\n"
     ]
    },
    {
     "data": {
      "text/html": [
       "<div>\n",
       "<style scoped>\n",
       "    .dataframe tbody tr th:only-of-type {\n",
       "        vertical-align: middle;\n",
       "    }\n",
       "\n",
       "    .dataframe tbody tr th {\n",
       "        vertical-align: top;\n",
       "    }\n",
       "\n",
       "    .dataframe thead th {\n",
       "        text-align: right;\n",
       "    }\n",
       "</style>\n",
       "<table border=\"1\" class=\"dataframe\">\n",
       "  <thead>\n",
       "    <tr style=\"text-align: right;\">\n",
       "      <th></th>\n",
       "      <th></th>\n",
       "      <th>Status</th>\n",
       "      <th>Life_Expectancy</th>\n",
       "      <th>Adult_Mortality</th>\n",
       "      <th>infant_deaths</th>\n",
       "      <th>Alcohol</th>\n",
       "      <th>percentage_expenditure</th>\n",
       "      <th>Hepatitis_B</th>\n",
       "      <th>Measles</th>\n",
       "      <th>BMI</th>\n",
       "      <th>under_five_deaths</th>\n",
       "      <th>Polio</th>\n",
       "      <th>Total_Expenditure</th>\n",
       "      <th>Diphtheria</th>\n",
       "      <th>HIV/AIDS</th>\n",
       "      <th>GDP</th>\n",
       "      <th>Population</th>\n",
       "      <th>thinness_1_19_years</th>\n",
       "      <th>thinness_5_9_years</th>\n",
       "      <th>Income_composition_of_resources</th>\n",
       "      <th>Schooling</th>\n",
       "    </tr>\n",
       "    <tr>\n",
       "      <th>Year</th>\n",
       "      <th>Country</th>\n",
       "      <th></th>\n",
       "      <th></th>\n",
       "      <th></th>\n",
       "      <th></th>\n",
       "      <th></th>\n",
       "      <th></th>\n",
       "      <th></th>\n",
       "      <th></th>\n",
       "      <th></th>\n",
       "      <th></th>\n",
       "      <th></th>\n",
       "      <th></th>\n",
       "      <th></th>\n",
       "      <th></th>\n",
       "      <th></th>\n",
       "      <th></th>\n",
       "      <th></th>\n",
       "      <th></th>\n",
       "      <th></th>\n",
       "      <th></th>\n",
       "    </tr>\n",
       "  </thead>\n",
       "  <tbody>\n",
       "    <tr>\n",
       "      <th>2015-01-01</th>\n",
       "      <th>Afghanistan</th>\n",
       "      <td>Developing</td>\n",
       "      <td>65.0</td>\n",
       "      <td>263.0</td>\n",
       "      <td>62</td>\n",
       "      <td>0.01</td>\n",
       "      <td>71.279624</td>\n",
       "      <td>65.0</td>\n",
       "      <td>1154</td>\n",
       "      <td>19.1</td>\n",
       "      <td>83</td>\n",
       "      <td>6.0</td>\n",
       "      <td>8.16</td>\n",
       "      <td>65.0</td>\n",
       "      <td>0.1</td>\n",
       "      <td>584.259210</td>\n",
       "      <td>33736494.0</td>\n",
       "      <td>17.2</td>\n",
       "      <td>17.3</td>\n",
       "      <td>0.479</td>\n",
       "      <td>10.1</td>\n",
       "    </tr>\n",
       "    <tr>\n",
       "      <th>2014-01-01</th>\n",
       "      <th>Afghanistan</th>\n",
       "      <td>Developing</td>\n",
       "      <td>59.9</td>\n",
       "      <td>271.0</td>\n",
       "      <td>64</td>\n",
       "      <td>0.01</td>\n",
       "      <td>73.523582</td>\n",
       "      <td>62.0</td>\n",
       "      <td>492</td>\n",
       "      <td>18.6</td>\n",
       "      <td>86</td>\n",
       "      <td>58.0</td>\n",
       "      <td>8.18</td>\n",
       "      <td>62.0</td>\n",
       "      <td>0.1</td>\n",
       "      <td>612.696514</td>\n",
       "      <td>327582.0</td>\n",
       "      <td>17.5</td>\n",
       "      <td>17.5</td>\n",
       "      <td>0.476</td>\n",
       "      <td>10.0</td>\n",
       "    </tr>\n",
       "    <tr>\n",
       "      <th>2013-01-01</th>\n",
       "      <th>Afghanistan</th>\n",
       "      <td>Developing</td>\n",
       "      <td>59.9</td>\n",
       "      <td>268.0</td>\n",
       "      <td>66</td>\n",
       "      <td>0.01</td>\n",
       "      <td>73.219243</td>\n",
       "      <td>64.0</td>\n",
       "      <td>430</td>\n",
       "      <td>18.1</td>\n",
       "      <td>89</td>\n",
       "      <td>62.0</td>\n",
       "      <td>8.13</td>\n",
       "      <td>64.0</td>\n",
       "      <td>0.1</td>\n",
       "      <td>631.744976</td>\n",
       "      <td>31731688.0</td>\n",
       "      <td>17.7</td>\n",
       "      <td>17.7</td>\n",
       "      <td>0.470</td>\n",
       "      <td>9.9</td>\n",
       "    </tr>\n",
       "    <tr>\n",
       "      <th>2012-01-01</th>\n",
       "      <th>Afghanistan</th>\n",
       "      <td>Developing</td>\n",
       "      <td>59.5</td>\n",
       "      <td>272.0</td>\n",
       "      <td>69</td>\n",
       "      <td>0.01</td>\n",
       "      <td>78.184215</td>\n",
       "      <td>67.0</td>\n",
       "      <td>2787</td>\n",
       "      <td>17.6</td>\n",
       "      <td>93</td>\n",
       "      <td>67.0</td>\n",
       "      <td>8.52</td>\n",
       "      <td>67.0</td>\n",
       "      <td>0.1</td>\n",
       "      <td>669.959000</td>\n",
       "      <td>3696958.0</td>\n",
       "      <td>17.9</td>\n",
       "      <td>18.0</td>\n",
       "      <td>0.463</td>\n",
       "      <td>9.8</td>\n",
       "    </tr>\n",
       "    <tr>\n",
       "      <th>2011-01-01</th>\n",
       "      <th>Afghanistan</th>\n",
       "      <td>Developing</td>\n",
       "      <td>59.2</td>\n",
       "      <td>275.0</td>\n",
       "      <td>71</td>\n",
       "      <td>0.01</td>\n",
       "      <td>7.097109</td>\n",
       "      <td>68.0</td>\n",
       "      <td>3013</td>\n",
       "      <td>17.2</td>\n",
       "      <td>97</td>\n",
       "      <td>68.0</td>\n",
       "      <td>7.87</td>\n",
       "      <td>68.0</td>\n",
       "      <td>0.1</td>\n",
       "      <td>63.537231</td>\n",
       "      <td>2978599.0</td>\n",
       "      <td>18.2</td>\n",
       "      <td>18.2</td>\n",
       "      <td>0.454</td>\n",
       "      <td>9.5</td>\n",
       "    </tr>\n",
       "    <tr>\n",
       "      <th>2010-01-01</th>\n",
       "      <th>Afghanistan</th>\n",
       "      <td>Developing</td>\n",
       "      <td>58.8</td>\n",
       "      <td>279.0</td>\n",
       "      <td>74</td>\n",
       "      <td>0.01</td>\n",
       "      <td>79.679367</td>\n",
       "      <td>66.0</td>\n",
       "      <td>1989</td>\n",
       "      <td>16.7</td>\n",
       "      <td>102</td>\n",
       "      <td>66.0</td>\n",
       "      <td>9.20</td>\n",
       "      <td>66.0</td>\n",
       "      <td>0.1</td>\n",
       "      <td>553.328940</td>\n",
       "      <td>2883167.0</td>\n",
       "      <td>18.4</td>\n",
       "      <td>18.4</td>\n",
       "      <td>0.448</td>\n",
       "      <td>9.2</td>\n",
       "    </tr>\n",
       "    <tr>\n",
       "      <th>2009-01-01</th>\n",
       "      <th>Afghanistan</th>\n",
       "      <td>Developing</td>\n",
       "      <td>58.6</td>\n",
       "      <td>281.0</td>\n",
       "      <td>77</td>\n",
       "      <td>0.01</td>\n",
       "      <td>56.762217</td>\n",
       "      <td>63.0</td>\n",
       "      <td>2861</td>\n",
       "      <td>16.2</td>\n",
       "      <td>106</td>\n",
       "      <td>63.0</td>\n",
       "      <td>9.42</td>\n",
       "      <td>63.0</td>\n",
       "      <td>0.1</td>\n",
       "      <td>445.893298</td>\n",
       "      <td>284331.0</td>\n",
       "      <td>18.6</td>\n",
       "      <td>18.7</td>\n",
       "      <td>0.434</td>\n",
       "      <td>8.9</td>\n",
       "    </tr>\n",
       "    <tr>\n",
       "      <th>2008-01-01</th>\n",
       "      <th>Afghanistan</th>\n",
       "      <td>Developing</td>\n",
       "      <td>58.1</td>\n",
       "      <td>287.0</td>\n",
       "      <td>80</td>\n",
       "      <td>0.03</td>\n",
       "      <td>25.873925</td>\n",
       "      <td>64.0</td>\n",
       "      <td>1599</td>\n",
       "      <td>15.7</td>\n",
       "      <td>110</td>\n",
       "      <td>64.0</td>\n",
       "      <td>8.33</td>\n",
       "      <td>64.0</td>\n",
       "      <td>0.1</td>\n",
       "      <td>373.361116</td>\n",
       "      <td>2729431.0</td>\n",
       "      <td>18.8</td>\n",
       "      <td>18.9</td>\n",
       "      <td>0.433</td>\n",
       "      <td>8.7</td>\n",
       "    </tr>\n",
       "    <tr>\n",
       "      <th>2007-01-01</th>\n",
       "      <th>Afghanistan</th>\n",
       "      <td>Developing</td>\n",
       "      <td>57.5</td>\n",
       "      <td>295.0</td>\n",
       "      <td>82</td>\n",
       "      <td>0.02</td>\n",
       "      <td>10.910156</td>\n",
       "      <td>63.0</td>\n",
       "      <td>1141</td>\n",
       "      <td>15.2</td>\n",
       "      <td>113</td>\n",
       "      <td>63.0</td>\n",
       "      <td>6.73</td>\n",
       "      <td>63.0</td>\n",
       "      <td>0.1</td>\n",
       "      <td>369.835796</td>\n",
       "      <td>26616792.0</td>\n",
       "      <td>19.0</td>\n",
       "      <td>19.1</td>\n",
       "      <td>0.415</td>\n",
       "      <td>8.4</td>\n",
       "    </tr>\n",
       "    <tr>\n",
       "      <th>2006-01-01</th>\n",
       "      <th>Afghanistan</th>\n",
       "      <td>Developing</td>\n",
       "      <td>57.3</td>\n",
       "      <td>295.0</td>\n",
       "      <td>84</td>\n",
       "      <td>0.03</td>\n",
       "      <td>17.171518</td>\n",
       "      <td>64.0</td>\n",
       "      <td>1990</td>\n",
       "      <td>14.7</td>\n",
       "      <td>116</td>\n",
       "      <td>58.0</td>\n",
       "      <td>7.43</td>\n",
       "      <td>58.0</td>\n",
       "      <td>0.1</td>\n",
       "      <td>272.563770</td>\n",
       "      <td>2589345.0</td>\n",
       "      <td>19.2</td>\n",
       "      <td>19.3</td>\n",
       "      <td>0.405</td>\n",
       "      <td>8.1</td>\n",
       "    </tr>\n",
       "  </tbody>\n",
       "</table>\n",
       "</div>"
      ],
      "text/plain": [
       "                            Status  Life_Expectancy  Adult_Mortality  \\\n",
       "Year       Country                                                     \n",
       "2015-01-01 Afghanistan  Developing             65.0            263.0   \n",
       "2014-01-01 Afghanistan  Developing             59.9            271.0   \n",
       "2013-01-01 Afghanistan  Developing             59.9            268.0   \n",
       "2012-01-01 Afghanistan  Developing             59.5            272.0   \n",
       "2011-01-01 Afghanistan  Developing             59.2            275.0   \n",
       "2010-01-01 Afghanistan  Developing             58.8            279.0   \n",
       "2009-01-01 Afghanistan  Developing             58.6            281.0   \n",
       "2008-01-01 Afghanistan  Developing             58.1            287.0   \n",
       "2007-01-01 Afghanistan  Developing             57.5            295.0   \n",
       "2006-01-01 Afghanistan  Developing             57.3            295.0   \n",
       "\n",
       "                        infant_deaths  Alcohol  percentage_expenditure  \\\n",
       "Year       Country                                                       \n",
       "2015-01-01 Afghanistan             62     0.01               71.279624   \n",
       "2014-01-01 Afghanistan             64     0.01               73.523582   \n",
       "2013-01-01 Afghanistan             66     0.01               73.219243   \n",
       "2012-01-01 Afghanistan             69     0.01               78.184215   \n",
       "2011-01-01 Afghanistan             71     0.01                7.097109   \n",
       "2010-01-01 Afghanistan             74     0.01               79.679367   \n",
       "2009-01-01 Afghanistan             77     0.01               56.762217   \n",
       "2008-01-01 Afghanistan             80     0.03               25.873925   \n",
       "2007-01-01 Afghanistan             82     0.02               10.910156   \n",
       "2006-01-01 Afghanistan             84     0.03               17.171518   \n",
       "\n",
       "                        Hepatitis_B  Measles   BMI  under_five_deaths  Polio  \\\n",
       "Year       Country                                                             \n",
       "2015-01-01 Afghanistan         65.0     1154  19.1                 83    6.0   \n",
       "2014-01-01 Afghanistan         62.0      492  18.6                 86   58.0   \n",
       "2013-01-01 Afghanistan         64.0      430  18.1                 89   62.0   \n",
       "2012-01-01 Afghanistan         67.0     2787  17.6                 93   67.0   \n",
       "2011-01-01 Afghanistan         68.0     3013  17.2                 97   68.0   \n",
       "2010-01-01 Afghanistan         66.0     1989  16.7                102   66.0   \n",
       "2009-01-01 Afghanistan         63.0     2861  16.2                106   63.0   \n",
       "2008-01-01 Afghanistan         64.0     1599  15.7                110   64.0   \n",
       "2007-01-01 Afghanistan         63.0     1141  15.2                113   63.0   \n",
       "2006-01-01 Afghanistan         64.0     1990  14.7                116   58.0   \n",
       "\n",
       "                        Total_Expenditure  Diphtheria  HIV/AIDS         GDP  \\\n",
       "Year       Country                                                            \n",
       "2015-01-01 Afghanistan               8.16        65.0       0.1  584.259210   \n",
       "2014-01-01 Afghanistan               8.18        62.0       0.1  612.696514   \n",
       "2013-01-01 Afghanistan               8.13        64.0       0.1  631.744976   \n",
       "2012-01-01 Afghanistan               8.52        67.0       0.1  669.959000   \n",
       "2011-01-01 Afghanistan               7.87        68.0       0.1   63.537231   \n",
       "2010-01-01 Afghanistan               9.20        66.0       0.1  553.328940   \n",
       "2009-01-01 Afghanistan               9.42        63.0       0.1  445.893298   \n",
       "2008-01-01 Afghanistan               8.33        64.0       0.1  373.361116   \n",
       "2007-01-01 Afghanistan               6.73        63.0       0.1  369.835796   \n",
       "2006-01-01 Afghanistan               7.43        58.0       0.1  272.563770   \n",
       "\n",
       "                        Population  thinness_1_19_years  thinness_5_9_years  \\\n",
       "Year       Country                                                            \n",
       "2015-01-01 Afghanistan  33736494.0                 17.2                17.3   \n",
       "2014-01-01 Afghanistan    327582.0                 17.5                17.5   \n",
       "2013-01-01 Afghanistan  31731688.0                 17.7                17.7   \n",
       "2012-01-01 Afghanistan   3696958.0                 17.9                18.0   \n",
       "2011-01-01 Afghanistan   2978599.0                 18.2                18.2   \n",
       "2010-01-01 Afghanistan   2883167.0                 18.4                18.4   \n",
       "2009-01-01 Afghanistan    284331.0                 18.6                18.7   \n",
       "2008-01-01 Afghanistan   2729431.0                 18.8                18.9   \n",
       "2007-01-01 Afghanistan  26616792.0                 19.0                19.1   \n",
       "2006-01-01 Afghanistan   2589345.0                 19.2                19.3   \n",
       "\n",
       "                        Income_composition_of_resources  Schooling  \n",
       "Year       Country                                                  \n",
       "2015-01-01 Afghanistan                            0.479       10.1  \n",
       "2014-01-01 Afghanistan                            0.476       10.0  \n",
       "2013-01-01 Afghanistan                            0.470        9.9  \n",
       "2012-01-01 Afghanistan                            0.463        9.8  \n",
       "2011-01-01 Afghanistan                            0.454        9.5  \n",
       "2010-01-01 Afghanistan                            0.448        9.2  \n",
       "2009-01-01 Afghanistan                            0.434        8.9  \n",
       "2008-01-01 Afghanistan                            0.433        8.7  \n",
       "2007-01-01 Afghanistan                            0.415        8.4  \n",
       "2006-01-01 Afghanistan                            0.405        8.1  "
      ]
     },
     "execution_count": 129,
     "metadata": {},
     "output_type": "execute_result"
    }
   ],
   "source": [
    "print(df.shape)\n",
    "df.head(10)"
   ]
  },
  {
   "cell_type": "code",
   "execution_count": 130,
   "metadata": {
    "scrolled": true
   },
   "outputs": [
    {
     "data": {
      "text/plain": [
       "Status                             0\n",
       "Life_Expectancy                    0\n",
       "Adult_Mortality                    0\n",
       "infant_deaths                      0\n",
       "Alcohol                            0\n",
       "percentage_expenditure             0\n",
       "Hepatitis_B                        0\n",
       "Measles                            0\n",
       "BMI                                0\n",
       "under_five_deaths                  0\n",
       "Polio                              0\n",
       "Total_Expenditure                  0\n",
       "Diphtheria                         0\n",
       "HIV/AIDS                           0\n",
       "GDP                                0\n",
       "Population                         0\n",
       "thinness_1_19_years                0\n",
       "thinness_5_9_years                 0\n",
       "Income_composition_of_resources    0\n",
       "Schooling                          0\n",
       "dtype: int64"
      ]
     },
     "execution_count": 130,
     "metadata": {},
     "output_type": "execute_result"
    }
   ],
   "source": [
    "df.isnull().sum()"
   ]
  },
  {
   "cell_type": "code",
   "execution_count": 131,
   "metadata": {
    "scrolled": true
   },
   "outputs": [
    {
     "name": "stdout",
     "output_type": "stream",
     "text": [
      "<class 'pandas.core.frame.DataFrame'>\n",
      "MultiIndex: 1649 entries, (Timestamp('2015-01-01 00:00:00'), 'Afghanistan') to (Timestamp('2000-01-01 00:00:00'), 'Zimbabwe')\n",
      "Data columns (total 20 columns):\n",
      " #   Column                           Non-Null Count  Dtype  \n",
      "---  ------                           --------------  -----  \n",
      " 0   Status                           1649 non-null   object \n",
      " 1   Life_Expectancy                  1649 non-null   float64\n",
      " 2   Adult_Mortality                  1649 non-null   float64\n",
      " 3   infant_deaths                    1649 non-null   int64  \n",
      " 4   Alcohol                          1649 non-null   float64\n",
      " 5   percentage_expenditure           1649 non-null   float64\n",
      " 6   Hepatitis_B                      1649 non-null   float64\n",
      " 7   Measles                          1649 non-null   int64  \n",
      " 8   BMI                              1649 non-null   float64\n",
      " 9   under_five_deaths                1649 non-null   int64  \n",
      " 10  Polio                            1649 non-null   float64\n",
      " 11  Total_Expenditure                1649 non-null   float64\n",
      " 12  Diphtheria                       1649 non-null   float64\n",
      " 13  HIV/AIDS                         1649 non-null   float64\n",
      " 14  GDP                              1649 non-null   float64\n",
      " 15  Population                       1649 non-null   float64\n",
      " 16  thinness_1_19_years              1649 non-null   float64\n",
      " 17  thinness_5_9_years               1649 non-null   float64\n",
      " 18  Income_composition_of_resources  1649 non-null   float64\n",
      " 19  Schooling                        1649 non-null   float64\n",
      "dtypes: float64(16), int64(3), object(1)\n",
      "memory usage: 268.8+ KB\n"
     ]
    }
   ],
   "source": [
    "df.info()"
   ]
  },
  {
   "cell_type": "code",
   "execution_count": 132,
   "metadata": {
    "scrolled": true
   },
   "outputs": [
    {
     "name": "stderr",
     "output_type": "stream",
     "text": [
      "C:\\Users\\dburn\\.virtualenvs\\GitHub-83uqIelY\\lib\\site-packages\\seaborn\\distributions.py:2619: FutureWarning: `distplot` is a deprecated function and will be removed in a future version. Please adapt your code to use either `displot` (a figure-level function with similar flexibility) or `histplot` (an axes-level function for histograms).\n",
      "  warnings.warn(msg, FutureWarning)\n"
     ]
    },
    {
     "data": {
      "image/png": "[encoded data removed]",
      "text/plain": [
       "<Figure size 432x288 with 1 Axes>"
      ]
     },
     "metadata": {
      "needs_background": "light"
     },
     "output_type": "display_data"
    }
   ],
   "source": [
    "%matplotlib inline\n",
    "import seaborn as sns\n",
    "sns.distplot(y_train);"
   ]
  },
  {
   "cell_type": "code",
   "execution_count": 135,
   "metadata": {},
   "outputs": [],
   "source": [
    "target = 'Life_Expectancy'\n",
    "X = df.drop(columns= target)\n",
    "y = df[target]"
   ]
  },
  {
   "cell_type": "code",
   "execution_count": 136,
   "metadata": {},
   "outputs": [],
   "source": [
    "X_train, X_val, y_train, y_val = train_test_split(X, y, test_size=.1, random_state=42)"
   ]
  },
  {
   "cell_type": "code",
   "execution_count": 137,
   "metadata": {},
   "outputs": [
    {
     "name": "stdout",
     "output_type": "stream",
     "text": [
      "Linear Regression R^2 0.8031719262621922\n"
     ]
    }
   ],
   "source": [
    "model = make_pipeline(\n",
    "    TargetEncoder(),  \n",
    "    StandardScaler(),\n",
    "    LinearRegression()\n",
    ")\n",
    "\n",
    "model.fit(X_train, y_train)\n",
    "print('Linear Regression R^2', model.score(X_val, y_val))"
   ]
  },
  {
   "cell_type": "code",
   "execution_count": 138,
   "metadata": {},
   "outputs": [
    {
     "name": "stdout",
     "output_type": "stream",
     "text": [
      "Linear Regression R^2 0.8024556240790949\n"
     ]
    },
    {
     "name": "stderr",
     "output_type": "stream",
     "text": [
      "C:\\Users\\dburn\\.virtualenvs\\GitHub-83uqIelY\\lib\\site-packages\\sklearn\\linear_model\\_ridge.py:156: LinAlgWarning: Ill-conditioned matrix (rcond=2.75532e-18): result may not be accurate.\n",
      "  return linalg.solve(A, Xy, sym_pos=True, overwrite_a=True).T\n"
     ]
    }
   ],
   "source": [
    "ridge = make_pipeline(\n",
    "    TargetEncoder(),  \n",
    "    Ridge()\n",
    ")\n",
    "\n",
    "ridge.fit(X_train, y_train)\n",
    "print('Linear Regression R^2', ridge.score(X_val, y_val))"
   ]
  },
  {
   "cell_type": "code",
   "execution_count": 154,
   "metadata": {},
   "outputs": [
    {
     "data": {
      "text/plain": [
       "Pipeline(steps=[('ordinalencoder',\n",
       "                 OrdinalEncoder(cols=['Status'],\n",
       "                                mapping=[{'col': 'Status',\n",
       "                                          'data_type': dtype('O'),\n",
       "                                          'mapping': Developing    1\n",
       "Developed     2\n",
       "NaN          -2\n",
       "dtype: int64}])),\n",
       "                ('standardscaler', StandardScaler()),\n",
       "                ('simpleimputer', SimpleImputer()),\n",
       "                ('gradientboostingregressor', GradientBoostingRegressor())])"
      ]
     },
     "execution_count": 154,
     "metadata": {},
     "output_type": "execute_result"
    }
   ],
   "source": [
    "model_xgb = make_pipeline(\n",
    "    OrdinalEncoder(),\n",
    "    StandardScaler(),\n",
    "    SimpleImputer(),\n",
    "    GradientBoostingRegressor()\n",
    ")\n",
    "\n",
    "model_xgb.fit(X_train, y_train)"
   ]
  },
  {
   "cell_type": "code",
   "execution_count": 140,
   "metadata": {},
   "outputs": [
    {
     "name": "stdout",
     "output_type": "stream",
     "text": [
      "Gradient Boost Training Accuracy 0.9665964867521087\n",
      "Gradient Boost Validation Accuracy 0.9262072414814873\n"
     ]
    }
   ],
   "source": [
    "print('Gradient Boost Training Accuracy', model_xgb.score(X_train, y_train))\n",
    "print('Gradient Boost Validation Accuracy', model_xgb.score(X_val, y_val))"
   ]
  },
  {
   "cell_type": "code",
   "execution_count": 141,
   "metadata": {
    "scrolled": true
   },
   "outputs": [
    {
     "data": {
      "image/png": "[encoded data removed]",
      "text/plain": [
       "<Figure size 432x288 with 1 Axes>"
      ]
     },
     "metadata": {
      "needs_background": "light"
     },
     "output_type": "display_data"
    }
   ],
   "source": [
    "importances = model_xgb.named_steps['gradientboostingregressor'].feature_importances_\n",
    "\n",
    "gini_imp = pd.DataFrame(data=importances, index=X_val.columns, columns=['gini_impurity']).sort_values(by='gini_impurity')\n",
    "\n",
    "gini_imp.tail(10).plot(kind='barh');"
   ]
  },
  {
   "cell_type": "code",
   "execution_count": 151,
   "metadata": {},
   "outputs": [
    {
     "name": "stdout",
     "output_type": "stream",
     "text": [
      "Gradient Boosting R^2 0.9447605573210384\n"
     ]
    }
   ],
   "source": [
    "gb = make_pipeline(\n",
    "    OrdinalEncoder(), \n",
    "    XGBRegressor(n_estimators=300, objective='reg:squarederror', n_jobs=-1)\n",
    ")\n",
    "\n",
    "gb.fit(X_train, y_train)\n",
    "y_pred = gb.predict(X_val)\n",
    "print('Gradient Boosting R^2', r2_score(y_val, y_pred))"
   ]
  },
  {
   "cell_type": "code",
   "execution_count": 143,
   "metadata": {
    "scrolled": true
   },
   "outputs": [
    {
     "data": {
      "image/png": "[encoded data removed]",
      "text/plain": [
       "<Figure size 432x288 with 1 Axes>"
      ]
     },
     "metadata": {
      "needs_background": "light"
     },
     "output_type": "display_data"
    }
   ],
   "source": [
    "pd.Series(gb.named_steps['xgbregressor'].feature_importances_, index=X_val.columns).plot(kind='bar');"
   ]
  },
  {
   "cell_type": "markdown",
   "metadata": {},
   "source": [
    "By far the most influential features in determing a country's life expectenancy are Adult Mortality, HIV/AIDS, and the Income Composition of Resoureces. The ranking of their importance may differ based on what model you fit but, these three features are still much more heavily weighted compared to any of the features below them "
   ]
  }
 ],
 "metadata": {
  "jupytext": {
   "cell_metadata_filter": "-all",
   "main_language": "python",
   "notebook_metadata_filter": "-all"
  },
  "kernelspec": {
   "display_name": "Python 3 (ipykernel)",
   "language": "python",
   "name": "python3"
  },
  "language_info": {
   "codemirror_mode": {
    "name": "ipython",
    "version": 3
   },
   "file_extension": ".py",
   "mimetype": "text/x-python",
   "name": "python",
   "nbconvert_exporter": "python",
   "pygments_lexer": "ipython3",
   "version": "3.9.6"
  }
 },
 "nbformat": 4,
 "nbformat_minor": 2
}
